{
 "cells": [
  {
   "cell_type": "code",
   "execution_count": 11,
   "id": "7e327d78",
   "metadata": {
    "scrolled": true
   },
   "outputs": [
    {
     "name": "stdout",
     "output_type": "stream",
     "text": [
      "Requirement already satisfied: face_recognition in c:\\users\\user\\appdata\\local\\programs\\python\\python310\\lib\\site-packages (1.3.0)\n",
      "Requirement already satisfied: Click>=6.0 in c:\\users\\user\\appdata\\local\\programs\\python\\python310\\lib\\site-packages (from face_recognition) (8.0.4)\n",
      "Requirement already satisfied: face-recognition-models>=0.3.0 in c:\\users\\user\\appdata\\local\\programs\\python\\python310\\lib\\site-packages (from face_recognition) (0.3.0)\n",
      "Requirement already satisfied: Pillow in c:\\users\\user\\appdata\\local\\programs\\python\\python310\\lib\\site-packages (from face_recognition) (9.0.1)\n",
      "Requirement already satisfied: numpy in c:\\users\\user\\appdata\\local\\programs\\python\\python310\\lib\\site-packages (from face_recognition) (1.22.2)\n",
      "Requirement already satisfied: dlib>=19.7 in c:\\users\\user\\appdata\\local\\programs\\python\\python310\\lib\\site-packages (from face_recognition) (19.23.1)\n",
      "Requirement already satisfied: colorama in c:\\users\\user\\appdata\\local\\programs\\python\\python310\\lib\\site-packages (from Click>=6.0->face_recognition) (0.4.4)\n"
     ]
    }
   ],
   "source": [
    "!pip install pillow\n",
    "!pip install face_recognition"
   ]
  },
  {
   "cell_type": "code",
   "execution_count": 1,
   "id": "45b30934",
   "metadata": {},
   "outputs": [],
   "source": [
    "import face_recognition\n",
    "import PIL.Image\n",
    "import PIL.ImageDraw"
   ]
  },
  {
   "cell_type": "code",
   "execution_count": 2,
   "id": "3f11cf0d",
   "metadata": {},
   "outputs": [],
   "source": [
    "input_image = face_recognition.load_image_file(\"C:/Users/USER/Desktop/CN240/AffectEmotion/train_class/class006/image0000054.jpg\")"
   ]
  },
  {
   "cell_type": "code",
   "execution_count": 3,
   "id": "b216986f",
   "metadata": {},
   "outputs": [
    {
     "name": "stdout",
     "output_type": "stream",
     "text": [
      "{'chin': [(39, 79), (39, 100), (42, 121), (46, 142), (54, 162), (64, 178), (77, 191), (90, 204), (108, 207), (129, 204), (152, 194), (174, 181), (193, 165), (205, 145), (209, 122), (210, 97), (211, 72)], 'left_eyebrow': [(40, 69), (49, 64), (61, 64), (73, 68), (85, 72)], 'right_eyebrow': [(120, 71), (136, 66), (151, 62), (166, 63), (181, 68)], 'nose_bridge': [(103, 86), (102, 101), (102, 117), (101, 134)], 'nose_tip': [(88, 137), (95, 141), (103, 145), (112, 142), (121, 140)], 'left_eye': [(56, 81), (65, 76), (77, 77), (86, 86), (76, 87), (64, 86)], 'right_eye': [(131, 87), (140, 79), (152, 78), (162, 83), (154, 88), (142, 89)], 'top_lip': [(79, 157), (87, 153), (97, 153), (105, 156), (115, 154), (130, 156), (146, 161), (140, 162), (115, 162), (105, 162), (96, 160), (84, 158)], 'bottom_lip': [(146, 161), (130, 172), (115, 176), (104, 176), (95, 174), (86, 168), (79, 157), (84, 158), (95, 164), (104, 165), (114, 165), (140, 162)]}\n"
     ]
    }
   ],
   "source": [
    "face_landmarks = face_recognition.face_landmarks(input_image)\n",
    "print(face_landmarks[0])"
   ]
  },
  {
   "cell_type": "code",
   "execution_count": 4,
   "id": "816dcfc0",
   "metadata": {},
   "outputs": [],
   "source": [
    "output_image = PIL.Image.fromarray(input_image)\n",
    "draw = PIL.ImageDraw.Draw(output_image)"
   ]
  },
  {
   "cell_type": "code",
   "execution_count": 5,
   "id": "b56eb9cc",
   "metadata": {},
   "outputs": [],
   "source": [
    "landmark = (face_landmarks[0].get('left_eye') + face_landmarks[0].get('right_eye') \n",
    "+ face_landmarks[0].get('top_lip') + face_landmarks[0].get('bottom_lip'))\n",
    "for loc in landmark:\n",
    "    x,y = loc\n",
    "    draw.rectangle((x, y, x+2, y+2), outline = 'blue')"
   ]
  },
  {
   "cell_type": "code",
   "execution_count": 6,
   "id": "6d48b618",
   "metadata": {},
   "outputs": [],
   "source": [
    "output_image.show()"
   ]
  },
  {
   "cell_type": "code",
   "execution_count": null,
   "id": "0b733a4e",
   "metadata": {},
   "outputs": [],
   "source": []
  }
 ],
 "metadata": {
  "kernelspec": {
   "display_name": "Python 3 (ipykernel)",
   "language": "python",
   "name": "python3"
  },
  "language_info": {
   "codemirror_mode": {
    "name": "ipython",
    "version": 3
   },
   "file_extension": ".py",
   "mimetype": "text/x-python",
   "name": "python",
   "nbconvert_exporter": "python",
   "pygments_lexer": "ipython3",
   "version": "3.10.2"
  }
 },
 "nbformat": 4,
 "nbformat_minor": 5
}
